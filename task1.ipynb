{
 "cells": [
  {
   "cell_type": "code",
   "execution_count": 2,
   "id": "a004d8e7-3361-47a9-a8aa-696f1a58d3fc",
   "metadata": {},
   "outputs": [
    {
     "name": "stdout",
     "output_type": "stream",
     "text": [
      "import\n"
     ]
    }
   ],
   "source": [
    "\n",
    "#import Liabraries\n",
    "import numpy as np \n",
    "import pandas as pd\n",
    "import matplotlib.pyplot as plt\n",
    "import seaborn as sns\n",
    "print(\"import\")"
   ]
  },
  {
   "cell_type": "code",
   "execution_count": 3,
   "id": "0e380f6a-faaa-4b14-933a-63ea51c7fa3d",
   "metadata": {},
   "outputs": [
    {
     "data": {
      "text/html": [
       "<div>\n",
       "<style scoped>\n",
       "    .dataframe tbody tr th:only-of-type {\n",
       "        vertical-align: middle;\n",
       "    }\n",
       "\n",
       "    .dataframe tbody tr th {\n",
       "        vertical-align: top;\n",
       "    }\n",
       "\n",
       "    .dataframe thead th {\n",
       "        text-align: right;\n",
       "    }\n",
       "</style>\n",
       "<table border=\"1\" class=\"dataframe\">\n",
       "  <thead>\n",
       "    <tr style=\"text-align: right;\">\n",
       "      <th></th>\n",
       "      <th>Name</th>\n",
       "      <th>Age</th>\n",
       "      <th>Gender</th>\n",
       "      <th>Email</th>\n",
       "      <th>Join_Date</th>\n",
       "      <th>Salary</th>\n",
       "      <th>Department</th>\n",
       "    </tr>\n",
       "  </thead>\n",
       "  <tbody>\n",
       "    <tr>\n",
       "      <th>0</th>\n",
       "      <td>Alice</td>\n",
       "      <td>NaN</td>\n",
       "      <td>NaN</td>\n",
       "      <td>user0@example.com</td>\n",
       "      <td>2021-05-21</td>\n",
       "      <td>NaN</td>\n",
       "      <td>Admin</td>\n",
       "    </tr>\n",
       "    <tr>\n",
       "      <th>1</th>\n",
       "      <td>Bob</td>\n",
       "      <td>40</td>\n",
       "      <td>M</td>\n",
       "      <td>user1@example.com</td>\n",
       "      <td>NaN</td>\n",
       "      <td>50000</td>\n",
       "      <td>Engineering</td>\n",
       "    </tr>\n",
       "    <tr>\n",
       "      <th>2</th>\n",
       "      <td>Charlie</td>\n",
       "      <td>unknown</td>\n",
       "      <td>Male</td>\n",
       "      <td>user2@example.com</td>\n",
       "      <td>2020/01/01</td>\n",
       "      <td>50000</td>\n",
       "      <td>HR</td>\n",
       "    </tr>\n",
       "    <tr>\n",
       "      <th>3</th>\n",
       "      <td>David</td>\n",
       "      <td>NaN</td>\n",
       "      <td>NaN</td>\n",
       "      <td>user3@example.com</td>\n",
       "      <td>2021-05-21</td>\n",
       "      <td>70000</td>\n",
       "      <td>Admin</td>\n",
       "    </tr>\n",
       "    <tr>\n",
       "      <th>4</th>\n",
       "      <td>Eva</td>\n",
       "      <td>35</td>\n",
       "      <td>Other</td>\n",
       "      <td>user4@example.com</td>\n",
       "      <td>July 4, 2020</td>\n",
       "      <td>70000</td>\n",
       "      <td>Engineering</td>\n",
       "    </tr>\n",
       "    <tr>\n",
       "      <th>5</th>\n",
       "      <td>Frank</td>\n",
       "      <td>unknown</td>\n",
       "      <td>Other</td>\n",
       "      <td>user5@example.com</td>\n",
       "      <td>NaN</td>\n",
       "      <td>70000</td>\n",
       "      <td>Admin</td>\n",
       "    </tr>\n",
       "    <tr>\n",
       "      <th>6</th>\n",
       "      <td>Grace</td>\n",
       "      <td>unknown</td>\n",
       "      <td>Female</td>\n",
       "      <td>user6@example.com</td>\n",
       "      <td>July 4, 2020</td>\n",
       "      <td>80000</td>\n",
       "      <td>Engineering</td>\n",
       "    </tr>\n",
       "    <tr>\n",
       "      <th>7</th>\n",
       "      <td>Hannah</td>\n",
       "      <td>NaN</td>\n",
       "      <td>Other</td>\n",
       "      <td>user7@example.com</td>\n",
       "      <td>2021-05-21</td>\n",
       "      <td>NaN</td>\n",
       "      <td>HR</td>\n",
       "    </tr>\n",
       "    <tr>\n",
       "      <th>8</th>\n",
       "      <td>Ivy</td>\n",
       "      <td>30</td>\n",
       "      <td>Female</td>\n",
       "      <td>user8@example.com</td>\n",
       "      <td>NaN</td>\n",
       "      <td>50000</td>\n",
       "      <td>Engineering</td>\n",
       "    </tr>\n",
       "    <tr>\n",
       "      <th>9</th>\n",
       "      <td>Jack</td>\n",
       "      <td>35</td>\n",
       "      <td>Male</td>\n",
       "      <td>user9@example.com</td>\n",
       "      <td>2020/01/01</td>\n",
       "      <td>80000</td>\n",
       "      <td>Engineering</td>\n",
       "    </tr>\n",
       "  </tbody>\n",
       "</table>\n",
       "</div>"
      ],
      "text/plain": [
       "      Name      Age  Gender              Email     Join_Date Salary  \\\n",
       "0    Alice      NaN     NaN  user0@example.com    2021-05-21    NaN   \n",
       "1      Bob       40       M  user1@example.com           NaN  50000   \n",
       "2  Charlie  unknown    Male  user2@example.com    2020/01/01  50000   \n",
       "3    David      NaN     NaN  user3@example.com    2021-05-21  70000   \n",
       "4      Eva       35   Other  user4@example.com  July 4, 2020  70000   \n",
       "5    Frank  unknown   Other  user5@example.com           NaN  70000   \n",
       "6    Grace  unknown  Female  user6@example.com  July 4, 2020  80000   \n",
       "7   Hannah      NaN   Other  user7@example.com    2021-05-21    NaN   \n",
       "8      Ivy       30  Female  user8@example.com           NaN  50000   \n",
       "9     Jack       35    Male  user9@example.com    2020/01/01  80000   \n",
       "\n",
       "    Department  \n",
       "0        Admin  \n",
       "1  Engineering  \n",
       "2           HR  \n",
       "3        Admin  \n",
       "4  Engineering  \n",
       "5        Admin  \n",
       "6  Engineering  \n",
       "7           HR  \n",
       "8  Engineering  \n",
       "9  Engineering  "
      ]
     },
     "execution_count": 3,
     "metadata": {},
     "output_type": "execute_result"
    }
   ],
   "source": [
    "# import dataset \n",
    "ds=pd.read_csv(\"dataset.csv\")\n",
    "ds.head(10)"
   ]
  },
  {
   "cell_type": "code",
   "execution_count": 4,
   "id": "22119df8-d6be-4ee7-8444-80e664859191",
   "metadata": {},
   "outputs": [
    {
     "name": "stdout",
     "output_type": "stream",
     "text": [
      "<class 'pandas.core.frame.DataFrame'>\n",
      "RangeIndex: 105 entries, 0 to 104\n",
      "Data columns (total 7 columns):\n",
      " #   Column      Non-Null Count  Dtype \n",
      "---  ------      --------------  ----- \n",
      " 0   Name        105 non-null    object\n",
      " 1   Age         72 non-null     object\n",
      " 2   Gender      89 non-null     object\n",
      " 3   Email       95 non-null     object\n",
      " 4   Join_Date   70 non-null     object\n",
      " 5   Salary      78 non-null     object\n",
      " 6   Department  89 non-null     object\n",
      "dtypes: object(7)\n",
      "memory usage: 5.9+ KB\n"
     ]
    }
   ],
   "source": [
    "ds.info()"
   ]
  },
  {
   "cell_type": "code",
   "execution_count": 5,
   "id": "cbfa90d9-b311-4e1d-b0ee-495fd4c69245",
   "metadata": {},
   "outputs": [
    {
     "data": {
      "text/html": [
       "<div>\n",
       "<style scoped>\n",
       "    .dataframe tbody tr th:only-of-type {\n",
       "        vertical-align: middle;\n",
       "    }\n",
       "\n",
       "    .dataframe tbody tr th {\n",
       "        vertical-align: top;\n",
       "    }\n",
       "\n",
       "    .dataframe thead th {\n",
       "        text-align: right;\n",
       "    }\n",
       "</style>\n",
       "<table border=\"1\" class=\"dataframe\">\n",
       "  <thead>\n",
       "    <tr style=\"text-align: right;\">\n",
       "      <th></th>\n",
       "      <th>Name</th>\n",
       "      <th>Age</th>\n",
       "      <th>Gender</th>\n",
       "      <th>Email</th>\n",
       "      <th>Join_Date</th>\n",
       "      <th>Salary</th>\n",
       "      <th>Department</th>\n",
       "    </tr>\n",
       "  </thead>\n",
       "  <tbody>\n",
       "    <tr>\n",
       "      <th>count</th>\n",
       "      <td>105</td>\n",
       "      <td>72</td>\n",
       "      <td>89</td>\n",
       "      <td>95</td>\n",
       "      <td>70</td>\n",
       "      <td>78</td>\n",
       "      <td>89</td>\n",
       "    </tr>\n",
       "    <tr>\n",
       "      <th>unique</th>\n",
       "      <td>10</td>\n",
       "      <td>5</td>\n",
       "      <td>5</td>\n",
       "      <td>90</td>\n",
       "      <td>4</td>\n",
       "      <td>5</td>\n",
       "      <td>5</td>\n",
       "    </tr>\n",
       "    <tr>\n",
       "      <th>top</th>\n",
       "      <td>Alice</td>\n",
       "      <td>40</td>\n",
       "      <td>Male</td>\n",
       "      <td>user0@example.com</td>\n",
       "      <td>2021-05-21</td>\n",
       "      <td>50000</td>\n",
       "      <td>Engineering</td>\n",
       "    </tr>\n",
       "    <tr>\n",
       "      <th>freq</th>\n",
       "      <td>11</td>\n",
       "      <td>22</td>\n",
       "      <td>22</td>\n",
       "      <td>2</td>\n",
       "      <td>26</td>\n",
       "      <td>22</td>\n",
       "      <td>26</td>\n",
       "    </tr>\n",
       "  </tbody>\n",
       "</table>\n",
       "</div>"
      ],
      "text/plain": [
       "         Name Age Gender              Email   Join_Date Salary   Department\n",
       "count     105  72     89                 95          70     78           89\n",
       "unique     10   5      5                 90           4      5            5\n",
       "top     Alice  40   Male  user0@example.com  2021-05-21  50000  Engineering\n",
       "freq       11  22     22                  2          26     22           26"
      ]
     },
     "execution_count": 5,
     "metadata": {},
     "output_type": "execute_result"
    }
   ],
   "source": [
    "ds.describe()"
   ]
  },
  {
   "cell_type": "code",
   "execution_count": 6,
   "id": "2b5f60c9-1d7e-4b66-901b-c543c2184e9e",
   "metadata": {},
   "outputs": [
    {
     "data": {
      "text/plain": [
       "5"
      ]
     },
     "execution_count": 6,
     "metadata": {},
     "output_type": "execute_result"
    }
   ],
   "source": [
    "#Searching for duplicates\n",
    "ds.duplicated().sum()\n",
    "#ds.duplicated()"
   ]
  },
  {
   "cell_type": "code",
   "execution_count": 10,
   "id": "ce9ca5f4-7fb8-4c5f-8c55-42a172f74edc",
   "metadata": {},
   "outputs": [],
   "source": [
    "#Remove duplicate\n",
    "ds.drop_duplicates(inplace=True)\n",
    "#After run searching cell"
   ]
  },
  {
   "cell_type": "code",
   "execution_count": 11,
   "id": "dc54bc91-9d1a-4175-be19-8d1af213946b",
   "metadata": {},
   "outputs": [
    {
     "data": {
      "text/plain": [
       "Index(['Name', 'Age', 'Gender', 'Email', 'Join_Date', 'Salary', 'Department'], dtype='object')"
      ]
     },
     "execution_count": 11,
     "metadata": {},
     "output_type": "execute_result"
    }
   ],
   "source": [
    "#To show column\n",
    "ds.columns"
   ]
  },
  {
   "cell_type": "code",
   "execution_count": 12,
   "id": "cc3aa8e7-981d-43a0-8591-74841da615fe",
   "metadata": {},
   "outputs": [],
   "source": [
    "#Handling Age \n",
    "ds[\"Age\"] = pd.to_numeric(ds[\"Age\"],errors='coerce')\n",
    "#Run info cell"
   ]
  },
  {
   "cell_type": "code",
   "execution_count": 13,
   "id": "ba71c213-184f-48ee-b26f-e743172999c8",
   "metadata": {},
   "outputs": [
    {
     "data": {
      "text/plain": [
       "array([nan, 40., 35., 30., 25.])"
      ]
     },
     "execution_count": 13,
     "metadata": {},
     "output_type": "execute_result"
    }
   ],
   "source": [
    "ds[\"Age\"].unique()"
   ]
  },
  {
   "cell_type": "code",
   "execution_count": 14,
   "id": "767c8a41-7eb1-4c98-ac9f-87b17a2e2ef5",
   "metadata": {},
   "outputs": [
    {
     "name": "stderr",
     "output_type": "stream",
     "text": [
      "C:\\Users\\SHRADDHA\\AppData\\Local\\Temp\\ipykernel_20872\\891422656.py:3: FutureWarning: A value is trying to be set on a copy of a DataFrame or Series through chained assignment using an inplace method.\n",
      "The behavior will change in pandas 3.0. This inplace method will never work because the intermediate object on which we are setting values always behaves as a copy.\n",
      "\n",
      "For example, when doing 'df[col].method(value, inplace=True)', try using 'df.method({col: value}, inplace=True)' or df[col] = df[col].method(value) instead, to perform the operation inplace on the original object.\n",
      "\n",
      "\n",
      "  ds[\"Age\"].fillna(x,inplace=True)\n"
     ]
    }
   ],
   "source": [
    "# to fill missing values\n",
    "x=ds[\"Age\"].median()\n",
    "ds[\"Age\"].fillna(x,inplace=True)"
   ]
  },
  {
   "cell_type": "code",
   "execution_count": 15,
   "id": "18b47686-8305-427b-bf5f-12470fa9ee85",
   "metadata": {},
   "outputs": [
    {
     "data": {
      "text/plain": [
       "array([nan, 'M', 'Male', 'Other', 'Female', 'F'], dtype=object)"
      ]
     },
     "execution_count": 15,
     "metadata": {},
     "output_type": "execute_result"
    }
   ],
   "source": [
    "ds[\"Gender\"].unique()"
   ]
  },
  {
   "cell_type": "code",
   "execution_count": 16,
   "id": "fc75cda6-6fce-4f7e-91b7-3db44401cf54",
   "metadata": {},
   "outputs": [],
   "source": [
    "#Standerdized Gendar\n",
    "\n",
    "ds[\"Gender\"]=ds[\"Gender\"].replace({\n",
    "    \"M\":\"Male\",\"F\":\"Female\",\"\":\"None\"\n",
    "})\n",
    "#After run Gender.unique cell"
   ]
  },
  {
   "cell_type": "code",
   "execution_count": 17,
   "id": "e68ae7a7-8a58-422e-82bc-2415098b8b03",
   "metadata": {},
   "outputs": [
    {
     "name": "stderr",
     "output_type": "stream",
     "text": [
      "C:\\Users\\SHRADDHA\\AppData\\Local\\Temp\\ipykernel_20872\\1208642452.py:2: FutureWarning: A value is trying to be set on a copy of a DataFrame or Series through chained assignment using an inplace method.\n",
      "The behavior will change in pandas 3.0. This inplace method will never work because the intermediate object on which we are setting values always behaves as a copy.\n",
      "\n",
      "For example, when doing 'df[col].method(value, inplace=True)', try using 'df.method({col: value}, inplace=True)' or df[col] = df[col].method(value) instead, to perform the operation inplace on the original object.\n",
      "\n",
      "\n",
      "  ds[\"Email\"].fillna(\"-\",inplace=True)\n"
     ]
    }
   ],
   "source": [
    "#handing Email column \n",
    "ds[\"Email\"].fillna(\"-\",inplace=True)\n",
    "#After run info cell"
   ]
  },
  {
   "cell_type": "code",
   "execution_count": 18,
   "id": "854bf642-907f-447a-8493-681fdc4b6283",
   "metadata": {},
   "outputs": [
    {
     "name": "stdout",
     "output_type": "stream",
     "text": [
      "       Name   Age  Gender               Email     Join_Date   Salary   Department\n",
      "0     Alice  35.0     NaN   user0@example.com    2021-05-21      NaN        Admin\n",
      "1       Bob  40.0    Male   user1@example.com           NaN    50000  Engineering\n",
      "2   Charlie  35.0    Male   user2@example.com    2020/01/01    50000           HR\n",
      "3     David  35.0     NaN   user3@example.com    2021-05-21    70000        Admin\n",
      "4       Eva  35.0   Other   user4@example.com  July 4, 2020    70000  Engineering\n",
      "5     Frank  35.0   Other   user5@example.com           NaN    70000        Admin\n",
      "6     Grace  35.0  Female   user6@example.com  July 4, 2020    80000  Engineering\n",
      "7    Hannah  35.0   Other   user7@example.com    2021-05-21      NaN           HR\n",
      "8       Ivy  30.0  Female   user8@example.com           NaN    50000  Engineering\n",
      "9      Jack  35.0    Male   user9@example.com    2020/01/01    80000  Engineering\n",
      "10    Alice  35.0    Male  user10@example.com    2021-05-21    70000  Engineering\n",
      "11      Bob  35.0    Male  user11@example.com  July 4, 2020    50000        Sales\n",
      "12  Charlie  35.0    Male  user12@example.com    22-06-2022    80000        Sales\n",
      "13    David  35.0   Other  user13@example.com           NaN      NaN        Sales\n",
      "14      Eva  40.0    Male  user14@example.com  July 4, 2020    80000           HR\n",
      "15    Frank  35.0   Other  user15@example.com           NaN      NaN        Admin\n",
      "16    Grace  35.0   Other  user16@example.com    2021-05-21    70000          NaN\n",
      "17   Hannah  35.0    Male  user17@example.com           NaN      NaN  Engineering\n",
      "18      Ivy  30.0    Male  user18@example.com    2021-05-21    50000  Engineering\n",
      "19     Jack  40.0    Male  user19@example.com           NaN    70000           HR\n",
      "20    Alice  35.0    Male  user20@example.com    2021-05-21    50000  Engineering\n",
      "21      Bob  35.0    Male  user21@example.com    22-06-2022  unknown        Sales\n",
      "22  Charlie  30.0  Female  user22@example.com           NaN    60000          NaN\n",
      "23    David  40.0  Female  user23@example.com           NaN      NaN    Marketing\n",
      "24      Eva  35.0    Male  user24@example.com           NaN    60000  Engineering\n",
      "25    Frank  25.0  Female  user25@example.com    22-06-2022    60000        Sales\n",
      "26    Grace  40.0  Female  user26@example.com  July 4, 2020      NaN    Marketing\n",
      "27   Hannah  30.0    Male  user27@example.com    2021-05-21    70000          NaN\n",
      "28      Ivy  35.0  Female  user28@example.com    2020/01/01  unknown    Marketing\n",
      "29     Jack  35.0   Other  user29@example.com    2021-05-21    50000        Sales\n",
      "30    Alice  40.0  Female  user30@example.com    2021-05-21    80000        Admin\n",
      "31      Bob  25.0  Female  user31@example.com  July 4, 2020    50000        Admin\n",
      "32  Charlie  25.0    Male  user32@example.com    2021-05-21    80000    Marketing\n",
      "33    David  35.0    Male  user33@example.com    22-06-2022    50000           HR\n",
      "34      Eva  35.0    Male  user34@example.com    22-06-2022      NaN    Marketing\n",
      "35    Frank  35.0    Male  user35@example.com           NaN  unknown  Engineering\n",
      "36    Grace  30.0  Female  user36@example.com           NaN    80000  Engineering\n",
      "37   Hannah  40.0    Male  user37@example.com    2020/01/01      NaN        Admin\n",
      "38      Ivy  40.0     NaN  user38@example.com    2021-05-21    70000           HR\n",
      "39     Jack  35.0   Other  user39@example.com    2021-05-21    50000        Sales\n",
      "40    Alice  35.0  Female  user40@example.com  July 4, 2020    50000  Engineering\n",
      "41      Bob  35.0    Male  user41@example.com           NaN    80000        Admin\n",
      "42  Charlie  35.0     NaN  user42@example.com    22-06-2022    70000          NaN\n",
      "43    David  35.0  Female  user43@example.com    2020/01/01    70000        Admin\n",
      "44      Eva  35.0  Female  user44@example.com           NaN      NaN  Engineering\n",
      "45    Frank  40.0    Male  user45@example.com    22-06-2022      NaN  Engineering\n",
      "46    Grace  35.0  Female  user46@example.com           NaN      NaN        Admin\n",
      "47   Hannah  40.0   Other  user47@example.com           NaN      NaN        Sales\n",
      "48      Ivy  25.0     NaN  user48@example.com  July 4, 2020      NaN    Marketing\n",
      "49     Jack  35.0  Female  user49@example.com  July 4, 2020      NaN  Engineering\n",
      "50    Alice  35.0    Male  user50@example.com    2021-05-21      NaN        Admin\n",
      "51      Bob  35.0   Other  user51@example.com           NaN  unknown        Admin\n",
      "52  Charlie  35.0  Female  user52@example.com    2020/01/01    70000           HR\n",
      "53    David  35.0     NaN  user53@example.com           NaN      NaN    Marketing\n",
      "54      Eva  25.0  Female  user54@example.com    22-06-2022    70000          NaN\n",
      "55    Frank  35.0    Male  user55@example.com           NaN    70000        Sales\n",
      "56    Grace  30.0  Female  user56@example.com           NaN    60000          NaN\n",
      "57   Hannah  40.0  Female  user57@example.com  July 4, 2020  unknown    Marketing\n",
      "58      Ivy  25.0    Male  user58@example.com    2021-05-21      NaN    Marketing\n",
      "59     Jack  40.0   Other  user59@example.com    2021-05-21    50000    Marketing\n",
      "60    Alice  35.0  Female  user60@example.com           NaN    80000          NaN\n",
      "61      Bob  30.0    Male  user61@example.com  July 4, 2020      NaN    Marketing\n",
      "62  Charlie  30.0    Male  user62@example.com           NaN    50000        Admin\n",
      "63    David  25.0   Other  user63@example.com    2020/01/01  unknown          NaN\n",
      "64      Eva  30.0    Male  user64@example.com  July 4, 2020    80000    Marketing\n",
      "65    Frank  35.0     NaN  user65@example.com           NaN  unknown        Admin\n",
      "66    Grace  30.0   Other  user66@example.com           NaN    70000           HR\n",
      "67   Hannah  40.0   Other  user67@example.com  July 4, 2020    80000    Marketing\n",
      "68      Ivy  40.0  Female  user68@example.com           NaN    70000          NaN\n",
      "69     Jack  35.0   Other  user69@example.com  July 4, 2020    50000  Engineering\n",
      "70    Alice  40.0    Male  user70@example.com    22-06-2022    50000    Marketing\n",
      "71      Bob  35.0   Other  user71@example.com  July 4, 2020    80000  Engineering\n",
      "72  Charlie  40.0  Female  user72@example.com  July 4, 2020    80000        Admin\n",
      "73    David  35.0  Female  user73@example.com           NaN      NaN           HR\n",
      "74      Eva  35.0     NaN  user74@example.com           NaN  unknown        Sales\n",
      "75    Frank  35.0    Male  user75@example.com    2021-05-21      NaN           HR\n",
      "76    Grace  35.0  Female  user76@example.com    2021-05-21  unknown    Marketing\n",
      "77   Hannah  25.0  Female  user77@example.com    22-06-2022      NaN  Engineering\n",
      "78      Ivy  40.0   Other  user78@example.com    2021-05-21    70000  Engineering\n",
      "79     Jack  30.0     NaN  user79@example.com  July 4, 2020    80000          NaN\n",
      "80    Alice  40.0    Male  user80@example.com           NaN    50000  Engineering\n",
      "81      Bob  30.0   Other  user81@example.com    2021-05-21  unknown          NaN\n",
      "82  Charlie  35.0     NaN  user82@example.com    2021-05-21  unknown        Admin\n",
      "83    David  35.0    Male  user83@example.com    22-06-2022    50000        Sales\n",
      "84      Eva  35.0    Male  user84@example.com           NaN      NaN    Marketing\n",
      "85    Frank  30.0    Male  user85@example.com    22-06-2022  unknown          NaN\n",
      "86    Grace  40.0    Male  user86@example.com  July 4, 2020      NaN        Sales\n",
      "87   Hannah  35.0    Male  user87@example.com           NaN    70000  Engineering\n",
      "88      Ivy  35.0     NaN  user88@example.com    22-06-2022    80000  Engineering\n",
      "89     Jack  35.0     NaN  user89@example.com    2021-05-21    50000        Sales\n",
      "90    Alice  30.0  Female                   -           NaN    80000  Engineering\n",
      "91      Bob  30.0  Female                   -           NaN      NaN        Admin\n",
      "92  Charlie  40.0    Male                   -    2021-05-21  unknown        Admin\n",
      "93    David  30.0    Male                   -    22-06-2022  unknown        Sales\n",
      "94      Eva  30.0     NaN                   -    2021-05-21      NaN          NaN\n",
      "95    Frank  35.0    Male                   -           NaN    50000          NaN\n",
      "96    Grace  40.0    Male                   -           NaN    70000        Sales\n",
      "97   Hannah  35.0    Male                   -    2020/01/01    60000          NaN\n",
      "98      Ivy  35.0  Female                   -    2020/01/01    50000          NaN\n",
      "99     Jack  35.0     NaN                   -  July 4, 2020    60000        Admin\n"
     ]
    }
   ],
   "source": [
    "print(ds.to_string())"
   ]
  },
  {
   "cell_type": "code",
   "execution_count": 19,
   "id": "84537c2b-1d60-48ef-a3d8-050a8143c871",
   "metadata": {},
   "outputs": [],
   "source": [
    "#HAndling date column\n",
    "ds[\"Join_Date\"]= pd.to_datetime(ds[\"Join_Date\"],errors='coerce')\n",
    "#run Info cell"
   ]
  },
  {
   "cell_type": "code",
   "execution_count": 20,
   "id": "b2e1e15c-d3e3-4043-8df6-df63be4cc26e",
   "metadata": {},
   "outputs": [],
   "source": [
    "#Handilng Salary column\n",
    "ds[\"Salary\"] =pd.to_numeric(ds[\"Salary\"],errors='coerce')\n",
    "#run info cell"
   ]
  },
  {
   "cell_type": "code",
   "execution_count": 21,
   "id": "87fafe7e-6708-4a37-88e1-a0d9aeee6aa7",
   "metadata": {},
   "outputs": [
    {
     "data": {
      "text/plain": [
       "array(['Admin', 'Engineering', 'HR', 'Sales', nan, 'Marketing'],\n",
       "      dtype=object)"
      ]
     },
     "execution_count": 21,
     "metadata": {},
     "output_type": "execute_result"
    }
   ],
   "source": [
    "#\n",
    "ds[\"Department\"].unique()"
   ]
  },
  {
   "cell_type": "code",
   "execution_count": 24,
   "id": "fbbd7de3-d777-45de-9730-6aa39100e694",
   "metadata": {},
   "outputs": [],
   "source": [
    "#Handilng Department column\n",
    "y= ds[\"Department\"].mode()[0]\n",
    "ds[\"Department\"].fillna(y,inplace=True)\n",
    "#run Department unique cell"
   ]
  },
  {
   "cell_type": "code",
   "execution_count": 25,
   "id": "18fba217-e5c5-4c6a-9f00-19c0370ce0e2",
   "metadata": {},
   "outputs": [],
   "source": [
    "#Save Data into new file \n",
    "ds.to_csv(\"cleaned_data.csv\")"
   ]
  },
  {
   "cell_type": "code",
   "execution_count": null,
   "id": "41a3cfa2-6ae8-4cb5-b2cd-26a66a736f82",
   "metadata": {},
   "outputs": [],
   "source": []
  }
 ],
 "metadata": {
  "kernelspec": {
   "display_name": "Python [conda env:base] *",
   "language": "python",
   "name": "conda-base-py"
  },
  "language_info": {
   "codemirror_mode": {
    "name": "ipython",
    "version": 3
   },
   "file_extension": ".py",
   "mimetype": "text/x-python",
   "name": "python",
   "nbconvert_exporter": "python",
   "pygments_lexer": "ipython3",
   "version": "3.12.7"
  }
 },
 "nbformat": 4,
 "nbformat_minor": 5
}
