{
 "cells": [
  {
   "cell_type": "code",
   "execution_count": 2,
   "id": "bfe22a90-3fd3-4204-8b4f-0b9451c7370b",
   "metadata": {},
   "outputs": [
    {
     "name": "stdout",
     "output_type": "stream",
     "text": [
      "import\n"
     ]
    }
   ],
   "source": [
    "\n",
    "#import Liabraries\n",
    "import numpy as np \n",
    "import pandas as pd\n",
    "import matplotlib.pyplot as plt\n",
    "import seaborn as sns\n",
    "print(\"import\")"
   ]
  },
  {
   "cell_type": "code",
   "execution_count": 5,
   "id": "001452b2-b7e7-42c5-8603-088e37d3a701",
   "metadata": {},
   "outputs": [
    {
     "data": {
      "text/html": [
       "<div>\n",
       "<style scoped>\n",
       "    .dataframe tbody tr th:only-of-type {\n",
       "        vertical-align: middle;\n",
       "    }\n",
       "\n",
       "    .dataframe tbody tr th {\n",
       "        vertical-align: top;\n",
       "    }\n",
       "\n",
       "    .dataframe thead th {\n",
       "        text-align: right;\n",
       "    }\n",
       "</style>\n",
       "<table border=\"1\" class=\"dataframe\">\n",
       "  <thead>\n",
       "    <tr style=\"text-align: right;\">\n",
       "      <th></th>\n",
       "      <th>CustomerID</th>\n",
       "      <th>Product</th>\n",
       "      <th>Price</th>\n",
       "      <th>Quantity</th>\n",
       "      <th>City</th>\n",
       "      <th>PurchaseDate</th>\n",
       "    </tr>\n",
       "  </thead>\n",
       "  <tbody>\n",
       "    <tr>\n",
       "      <th>0</th>\n",
       "      <td>1052</td>\n",
       "      <td>Desktop</td>\n",
       "      <td>NaN</td>\n",
       "      <td>4.0</td>\n",
       "      <td>Bangalore</td>\n",
       "      <td>2021-06-30</td>\n",
       "    </tr>\n",
       "    <tr>\n",
       "      <th>1</th>\n",
       "      <td>1041</td>\n",
       "      <td>Desktop</td>\n",
       "      <td>NaN</td>\n",
       "      <td>3.0</td>\n",
       "      <td>Delhi</td>\n",
       "      <td>2023-01-21</td>\n",
       "    </tr>\n",
       "    <tr>\n",
       "      <th>2</th>\n",
       "      <td>1057</td>\n",
       "      <td>Smartphone</td>\n",
       "      <td>forty-five thousand</td>\n",
       "      <td>2.0</td>\n",
       "      <td>Bangalore</td>\n",
       "      <td>2023-04-06</td>\n",
       "    </tr>\n",
       "    <tr>\n",
       "      <th>3</th>\n",
       "      <td>1038</td>\n",
       "      <td>Tablet</td>\n",
       "      <td>45000.0</td>\n",
       "      <td>1.0</td>\n",
       "      <td>Chennai</td>\n",
       "      <td>2023-07-05</td>\n",
       "    </tr>\n",
       "    <tr>\n",
       "      <th>4</th>\n",
       "      <td>1013</td>\n",
       "      <td>Smartphone</td>\n",
       "      <td>45000.0</td>\n",
       "      <td>NaN</td>\n",
       "      <td>Mumbai</td>\n",
       "      <td>2022-04-11</td>\n",
       "    </tr>\n",
       "    <tr>\n",
       "      <th>5</th>\n",
       "      <td>1094</td>\n",
       "      <td>Laptop</td>\n",
       "      <td>60000.0</td>\n",
       "      <td>two</td>\n",
       "      <td>Mumbai</td>\n",
       "      <td>2022-03-12</td>\n",
       "    </tr>\n",
       "    <tr>\n",
       "      <th>6</th>\n",
       "      <td>1004</td>\n",
       "      <td>Laptop</td>\n",
       "      <td>30000.0</td>\n",
       "      <td>2.0</td>\n",
       "      <td>Chennai</td>\n",
       "      <td>2022-02-25</td>\n",
       "    </tr>\n",
       "    <tr>\n",
       "      <th>7</th>\n",
       "      <td>1034</td>\n",
       "      <td>Laptop</td>\n",
       "      <td>30000.0</td>\n",
       "      <td>2.0</td>\n",
       "      <td>Chennai</td>\n",
       "      <td>2022-12-22</td>\n",
       "    </tr>\n",
       "    <tr>\n",
       "      <th>8</th>\n",
       "      <td>1086</td>\n",
       "      <td>Laptop</td>\n",
       "      <td>30000.0</td>\n",
       "      <td>3.0</td>\n",
       "      <td>Delhi</td>\n",
       "      <td>2022-10-23</td>\n",
       "    </tr>\n",
       "    <tr>\n",
       "      <th>9</th>\n",
       "      <td>1092</td>\n",
       "      <td>Desktop</td>\n",
       "      <td>30000.0</td>\n",
       "      <td>3.0</td>\n",
       "      <td>Mumbai</td>\n",
       "      <td>2022-03-12</td>\n",
       "    </tr>\n",
       "  </tbody>\n",
       "</table>\n",
       "</div>"
      ],
      "text/plain": [
       "   CustomerID     Product                Price Quantity       City  \\\n",
       "0        1052     Desktop                  NaN      4.0  Bangalore   \n",
       "1        1041     Desktop                  NaN      3.0      Delhi   \n",
       "2        1057  Smartphone  forty-five thousand      2.0  Bangalore   \n",
       "3        1038      Tablet              45000.0      1.0    Chennai   \n",
       "4        1013  Smartphone              45000.0      NaN     Mumbai   \n",
       "5        1094      Laptop              60000.0      two     Mumbai   \n",
       "6        1004      Laptop              30000.0      2.0    Chennai   \n",
       "7        1034      Laptop              30000.0      2.0    Chennai   \n",
       "8        1086      Laptop              30000.0      3.0      Delhi   \n",
       "9        1092     Desktop              30000.0      3.0     Mumbai   \n",
       "\n",
       "  PurchaseDate  \n",
       "0   2021-06-30  \n",
       "1   2023-01-21  \n",
       "2   2023-04-06  \n",
       "3   2023-07-05  \n",
       "4   2022-04-11  \n",
       "5   2022-03-12  \n",
       "6   2022-02-25  \n",
       "7   2022-12-22  \n",
       "8   2022-10-23  \n",
       "9   2022-03-12  "
      ]
     },
     "execution_count": 5,
     "metadata": {},
     "output_type": "execute_result"
    }
   ],
   "source": [
    "# import dataset \n",
    "ds=pd.read_csv(\"product.csv\")\n",
    "ds.head(10)"
   ]
  },
  {
   "cell_type": "code",
   "execution_count": 6,
   "id": "d38db89b-bd4a-4561-bcc5-360fb7945f7c",
   "metadata": {},
   "outputs": [
    {
     "name": "stdout",
     "output_type": "stream",
     "text": [
      "<class 'pandas.core.frame.DataFrame'>\n",
      "RangeIndex: 125 entries, 0 to 124\n",
      "Data columns (total 6 columns):\n",
      " #   Column        Non-Null Count  Dtype \n",
      "---  ------        --------------  ----- \n",
      " 0   CustomerID    125 non-null    int64 \n",
      " 1   Product       125 non-null    object\n",
      " 2   Price         103 non-null    object\n",
      " 3   Quantity      98 non-null     object\n",
      " 4   City          125 non-null    object\n",
      " 5   PurchaseDate  125 non-null    object\n",
      "dtypes: int64(1), object(5)\n",
      "memory usage: 6.0+ KB\n"
     ]
    }
   ],
   "source": [
    "ds.info()"
   ]
  },
  {
   "cell_type": "code",
   "execution_count": 7,
   "id": "d972c816-e4a6-4336-b2de-444a2e2a3979",
   "metadata": {},
   "outputs": [
    {
     "data": {
      "text/html": [
       "<div>\n",
       "<style scoped>\n",
       "    .dataframe tbody tr th:only-of-type {\n",
       "        vertical-align: middle;\n",
       "    }\n",
       "\n",
       "    .dataframe tbody tr th {\n",
       "        vertical-align: top;\n",
       "    }\n",
       "\n",
       "    .dataframe thead th {\n",
       "        text-align: right;\n",
       "    }\n",
       "</style>\n",
       "<table border=\"1\" class=\"dataframe\">\n",
       "  <thead>\n",
       "    <tr style=\"text-align: right;\">\n",
       "      <th></th>\n",
       "      <th>CustomerID</th>\n",
       "    </tr>\n",
       "  </thead>\n",
       "  <tbody>\n",
       "    <tr>\n",
       "      <th>count</th>\n",
       "      <td>125.000000</td>\n",
       "    </tr>\n",
       "    <tr>\n",
       "      <th>mean</th>\n",
       "      <td>1045.936000</td>\n",
       "    </tr>\n",
       "    <tr>\n",
       "      <th>std</th>\n",
       "      <td>28.183942</td>\n",
       "    </tr>\n",
       "    <tr>\n",
       "      <th>min</th>\n",
       "      <td>1000.000000</td>\n",
       "    </tr>\n",
       "    <tr>\n",
       "      <th>25%</th>\n",
       "      <td>1019.000000</td>\n",
       "    </tr>\n",
       "    <tr>\n",
       "      <th>50%</th>\n",
       "      <td>1044.000000</td>\n",
       "    </tr>\n",
       "    <tr>\n",
       "      <th>75%</th>\n",
       "      <td>1071.000000</td>\n",
       "    </tr>\n",
       "    <tr>\n",
       "      <th>max</th>\n",
       "      <td>1098.000000</td>\n",
       "    </tr>\n",
       "  </tbody>\n",
       "</table>\n",
       "</div>"
      ],
      "text/plain": [
       "        CustomerID\n",
       "count   125.000000\n",
       "mean   1045.936000\n",
       "std      28.183942\n",
       "min    1000.000000\n",
       "25%    1019.000000\n",
       "50%    1044.000000\n",
       "75%    1071.000000\n",
       "max    1098.000000"
      ]
     },
     "execution_count": 7,
     "metadata": {},
     "output_type": "execute_result"
    }
   ],
   "source": [
    "ds.describe()"
   ]
  },
  {
   "cell_type": "code",
   "execution_count": 8,
   "id": "075675a6-24bf-41be-b7e8-c3e3db95b693",
   "metadata": {},
   "outputs": [
    {
     "data": {
      "text/plain": [
       "5"
      ]
     },
     "execution_count": 8,
     "metadata": {},
     "output_type": "execute_result"
    }
   ],
   "source": [
    "#Searching for duplicates\n",
    "ds.duplicated().sum()\n",
    "#ds.duplicated()"
   ]
  },
  {
   "cell_type": "code",
   "execution_count": 9,
   "id": "7963e603-cf2d-4c88-b010-e2bcab68cade",
   "metadata": {},
   "outputs": [],
   "source": [
    "#Remove duplicate\n",
    "ds.drop_duplicates(inplace=True)\n",
    "#After run searching cell"
   ]
  },
  {
   "cell_type": "code",
   "execution_count": 10,
   "id": "f22a7bc6-fe70-4073-a28e-85392f40ccb3",
   "metadata": {},
   "outputs": [
    {
     "data": {
      "text/plain": [
       "Index(['CustomerID', 'Product', 'Price', 'Quantity', 'City', 'PurchaseDate'], dtype='object')"
      ]
     },
     "execution_count": 10,
     "metadata": {},
     "output_type": "execute_result"
    }
   ],
   "source": [
    "#To show column\n",
    "ds.columns"
   ]
  },
  {
   "cell_type": "code",
   "execution_count": 14,
   "id": "d16f5c95-bfa1-439b-befb-5fa2addfdb3c",
   "metadata": {},
   "outputs": [],
   "source": [
    "#Handling Age \n",
    "ds[\"CustomerID\"] = pd.to_numeric(ds[\"CustomerID\"],errors='coerce')\n",
    "#Run info cell"
   ]
  },
  {
   "cell_type": "code",
   "execution_count": 16,
   "id": "3d3cd4b3-0c19-4052-b9cd-8c7a2c673cf3",
   "metadata": {},
   "outputs": [
    {
     "data": {
      "text/plain": [
       "array([1052, 1041, 1057, 1038, 1013, 1094, 1004, 1034, 1086, 1092, 1074,\n",
       "       1017, 1075, 1008, 1073, 1016, 1006, 1045, 1012, 1039, 1049, 1026,\n",
       "       1065, 1028, 1036, 1037, 1082, 1007, 1064, 1085, 1070, 1088, 1044,\n",
       "       1003, 1035, 1069, 1030, 1018, 1060, 1053, 1090, 1089, 1066, 1091,\n",
       "       1019, 1071, 1000, 1002, 1076, 1061, 1062, 1024, 1055, 1032, 1005,\n",
       "       1043, 1031, 1046, 1020, 1079, 1084, 1098, 1056, 1048, 1014, 1015,\n",
       "       1011, 1095, 1023, 1027, 1059, 1040], dtype=int64)"
      ]
     },
     "execution_count": 16,
     "metadata": {},
     "output_type": "execute_result"
    }
   ],
   "source": [
    "ds[\"CustomerID\"].unique()"
   ]
  },
  {
   "cell_type": "code",
   "execution_count": 18,
   "id": "9e6b665a-9120-4ed4-8c04-549bfcd08086",
   "metadata": {},
   "outputs": [
    {
     "name": "stderr",
     "output_type": "stream",
     "text": [
      "C:\\Users\\SHRADDHA\\AppData\\Local\\Temp\\ipykernel_17428\\4149844651.py:3: FutureWarning: A value is trying to be set on a copy of a DataFrame or Series through chained assignment using an inplace method.\n",
      "The behavior will change in pandas 3.0. This inplace method will never work because the intermediate object on which we are setting values always behaves as a copy.\n",
      "\n",
      "For example, when doing 'df[col].method(value, inplace=True)', try using 'df.method({col: value}, inplace=True)' or df[col] = df[col].method(value) instead, to perform the operation inplace on the original object.\n",
      "\n",
      "\n",
      "  ds[\"CustomerID\"].fillna(x,inplace=True)\n"
     ]
    }
   ],
   "source": [
    "# to fill missing values\n",
    "x=ds[\"CustomerID\"].median()\n",
    "ds[\"CustomerID\"].fillna(x,inplace=True)"
   ]
  },
  {
   "cell_type": "code",
   "execution_count": 20,
   "id": "a4e1f724-c443-4b82-80cc-9398ae0b40ea",
   "metadata": {},
   "outputs": [
    {
     "data": {
      "text/plain": [
       "array(['Desktop', 'Smartphone', 'Tablet', 'Laptop'], dtype=object)"
      ]
     },
     "execution_count": 20,
     "metadata": {},
     "output_type": "execute_result"
    }
   ],
   "source": [
    "ds[\"Product\"].unique()"
   ]
  },
  {
   "cell_type": "code",
   "execution_count": 23,
   "id": "e14f80c6-8fae-46bd-9222-08694fd2da5a",
   "metadata": {},
   "outputs": [],
   "source": [
    "#Standerdized Gendar\n",
    "\n",
    "ds[\"Product\"]=ds[\"Product\"].replace({\n",
    "    \"D\":\"Desktop\",\"S\":\"Smartphone\",\"L\":\"Laptop\",\"T\":\"Tablet\"\n",
    "})\n",
    "#After run Gender.unique cell"
   ]
  },
  {
   "cell_type": "code",
   "execution_count": 25,
   "id": "4e9bd64a-6db6-489a-ab20-25e5010aaa46",
   "metadata": {},
   "outputs": [
    {
     "name": "stderr",
     "output_type": "stream",
     "text": [
      "C:\\Users\\SHRADDHA\\AppData\\Local\\Temp\\ipykernel_17428\\986846902.py:2: FutureWarning: A value is trying to be set on a copy of a DataFrame or Series through chained assignment using an inplace method.\n",
      "The behavior will change in pandas 3.0. This inplace method will never work because the intermediate object on which we are setting values always behaves as a copy.\n",
      "\n",
      "For example, when doing 'df[col].method(value, inplace=True)', try using 'df.method({col: value}, inplace=True)' or df[col] = df[col].method(value) instead, to perform the operation inplace on the original object.\n",
      "\n",
      "\n",
      "  ds[\"Price\"].fillna(\"-\",inplace=True)\n"
     ]
    }
   ],
   "source": [
    "#handing Email column \n",
    "ds[\"Price\"].fillna(\"-\",inplace=True)\n",
    "#After run info cell"
   ]
  },
  {
   "cell_type": "code",
   "execution_count": 26,
   "id": "7ad78f1d-0206-468b-b87c-8b38e3f01846",
   "metadata": {},
   "outputs": [
    {
     "name": "stdout",
     "output_type": "stream",
     "text": [
      "     CustomerID     Product                Price Quantity       City PurchaseDate\n",
      "0          1052     Desktop                    -      4.0  Bangalore   2021-06-30\n",
      "1          1041     Desktop                    -      3.0      Delhi   2023-01-21\n",
      "2          1057  Smartphone  forty-five thousand      2.0  Bangalore   2023-04-06\n",
      "3          1038      Tablet              45000.0      1.0    Chennai   2023-07-05\n",
      "4          1013  Smartphone              45000.0      NaN     Mumbai   2022-04-11\n",
      "5          1094      Laptop              60000.0      two     Mumbai   2022-03-12\n",
      "6          1004      Laptop              30000.0      2.0    Chennai   2022-02-25\n",
      "7          1034      Laptop              30000.0      2.0    Chennai   2022-12-22\n",
      "8          1086      Laptop              30000.0      3.0      Delhi   2022-10-23\n",
      "9          1092     Desktop              30000.0      3.0     Mumbai   2022-03-12\n",
      "10         1074      Laptop              45000.0      NaN  Bangalore   2021-08-14\n",
      "11         1017     Desktop              45000.0      NaN       Pune   2022-08-09\n",
      "12         1075     Desktop              30000.0      1.0       Pune   2021-09-28\n",
      "13         1008      Laptop              60000.0      1.0    Chennai   2021-09-13\n",
      "14         1073      Laptop              15000.0      NaN      Delhi   2021-01-01\n",
      "15         1057      Tablet              15000.0      NaN       Pune   2022-11-22\n",
      "16         1016  Smartphone              60000.0      4.0     Mumbai   2023-09-03\n",
      "17         1006      Laptop              30000.0      3.0    Chennai   2022-07-10\n",
      "18         1045      Tablet              45000.0      1.0  Bangalore   2023-01-21\n",
      "19         1012      Tablet              15000.0      3.0    Chennai   2023-07-20\n",
      "20         1039  Smartphone                    -      3.0  Bangalore   2021-02-15\n",
      "21         1041     Desktop                    -      NaN    Chennai   2021-01-01\n",
      "22         1008      Laptop              60000.0      4.0    Chennai   2021-04-16\n",
      "23         1049  Smartphone              30000.0      2.0    Chennai   2022-02-25\n",
      "24         1026      Laptop              15000.0      4.0  Bangalore   2023-03-22\n",
      "25         1065      Tablet              30000.0      4.0  Bangalore   2021-01-31\n",
      "26         1004      Tablet              15000.0      3.0    Chennai   2022-04-11\n",
      "27         1028     Desktop              60000.0      4.0       Pune   2021-05-16\n",
      "28         1036      Tablet              60000.0      1.0      Delhi   2022-05-11\n",
      "29         1037      Tablet                    -      3.0      Delhi   2023-03-22\n",
      "30         1082  Smartphone              30000.0      1.0      Delhi   2022-04-11\n",
      "31         1007      Laptop                    -      2.0  Bangalore   2023-01-06\n",
      "32         1064      Laptop              30000.0      3.0  Bangalore   2021-04-01\n",
      "33         1085  Smartphone                    -      2.0       Pune   2021-04-16\n",
      "34         1016     Desktop              45000.0      3.0      Delhi   2023-08-19\n",
      "35         1070      Laptop              45000.0      NaN      Delhi   2023-04-21\n",
      "36         1088      Tablet              45000.0      4.0    Chennai   2023-09-18\n",
      "37         1044      Laptop              45000.0      NaN  Bangalore   2023-05-21\n",
      "38         1003      Tablet              15000.0      2.0      Delhi   2023-12-02\n",
      "39         1035     Desktop              45000.0      4.0       Pune   2023-03-07\n",
      "40         1069  Smartphone              60000.0      3.0       Pune   2023-09-18\n",
      "41         1030      Laptop              60000.0      4.0      Delhi   2023-01-21\n",
      "42         1018  Smartphone              15000.0      1.0  Bangalore   2021-04-16\n",
      "43         1060      Laptop              45000.0      4.0       Pune   2022-05-11\n",
      "44         1053      Tablet              45000.0      1.0    Chennai   2022-05-26\n",
      "45         1038  Smartphone              45000.0      4.0       Pune   2022-04-11\n",
      "46         1090      Laptop                    -      1.0     Mumbai   2022-11-07\n",
      "47         1073      Tablet              30000.0      2.0     Mumbai   2021-08-14\n",
      "48         1089  Smartphone                    -      NaN  Bangalore   2023-10-03\n",
      "49         1018  Smartphone              30000.0      3.0      Delhi   2022-06-25\n",
      "50         1038      Laptop              45000.0      4.0  Bangalore   2023-03-07\n",
      "51         1066      Laptop              45000.0      NaN  Bangalore   2021-07-15\n",
      "52         1044      Laptop                    -      3.0  Bangalore   2023-03-22\n",
      "53         1012      Tablet                    -      3.0  Bangalore   2022-12-07\n",
      "54         1091      Laptop              30000.0      1.0    Chennai   2021-04-01\n",
      "55         1057  Smartphone              60000.0      2.0    Chennai   2021-04-01\n",
      "56         1019  Smartphone              30000.0      2.0       Pune   2022-04-26\n",
      "57         1091      Laptop                    -      NaN     Mumbai   2021-11-27\n",
      "58         1071      Laptop                    -      2.0  Bangalore   2021-09-28\n",
      "59         1060     Desktop              15000.0      4.0       Pune   2021-09-28\n",
      "60         1038  Smartphone                    -      2.0     Mumbai   2022-06-10\n",
      "61         1000      Tablet              15000.0      NaN      Delhi   2022-02-25\n",
      "62         1002     Desktop              60000.0      2.0    Chennai   2023-06-05\n",
      "63         1076      Laptop              30000.0      4.0     Mumbai   2021-01-16\n",
      "64         1091      Laptop              30000.0      1.0      Delhi   2021-01-01\n",
      "65         1061  Smartphone              15000.0      NaN     Mumbai   2022-11-22\n",
      "66         1062      Laptop              30000.0      1.0    Chennai   2023-10-18\n",
      "67         1024      Tablet                    -      1.0    Chennai   2021-10-13\n",
      "68         1055  Smartphone              45000.0      1.0       Pune   2021-05-31\n",
      "69         1032      Laptop              15000.0      3.0  Bangalore   2021-01-16\n",
      "70         1037  Smartphone              30000.0      3.0     Mumbai   2023-09-18\n",
      "71         1005      Laptop              15000.0      1.0     Mumbai   2021-06-15\n",
      "72         1057      Laptop              15000.0      NaN      Delhi   2021-10-13\n",
      "73         1043      Laptop              45000.0      4.0    Chennai   2021-03-02\n",
      "74         1044      Tablet                    -      4.0     Mumbai   2022-06-25\n",
      "75         1031      Tablet              15000.0      2.0    Chennai   2022-07-10\n",
      "76         1044  Smartphone              30000.0      NaN     Mumbai   2021-05-01\n",
      "77         1060      Laptop              60000.0      3.0       Pune   2023-02-20\n",
      "78         1046      Laptop              15000.0      1.0  Bangalore   2022-10-08\n",
      "79         1020      Tablet              15000.0      2.0     Mumbai   2021-12-12\n",
      "80         1079      Laptop              45000.0      4.0    Chennai   2022-03-12\n",
      "81         1084      Tablet                    -      3.0       Pune   2023-05-21\n",
      "82         1074      Laptop              60000.0      3.0     Mumbai   2021-07-15\n",
      "83         1035  Smartphone              30000.0      1.0      Delhi   2021-05-01\n",
      "84         1098      Laptop              60000.0      4.0  Bangalore   2022-08-09\n",
      "85         1018      Laptop              30000.0      NaN     Mumbai   2023-09-03\n",
      "86         1019     Desktop                    -      3.0       Pune   2021-12-27\n",
      "87         1056      Tablet              30000.0      1.0      Delhi   2023-12-17\n",
      "88         1017      Laptop              45000.0      NaN       Pune   2021-11-12\n",
      "89         1046      Laptop              45000.0      4.0       Pune   2021-02-15\n",
      "90         1048     Desktop              45000.0      3.0      Delhi   2022-01-11\n",
      "91         1013     Desktop              45000.0      NaN       Pune   2023-05-06\n",
      "92         1014      Tablet              60000.0      NaN      Delhi   2022-02-25\n",
      "93         1030     Desktop                    -      NaN     Mumbai   2022-06-25\n",
      "94         1000  Smartphone              30000.0      3.0      Delhi   2023-11-02\n",
      "95         1053     Desktop              30000.0      3.0      Delhi   2021-09-13\n",
      "96         1002  Smartphone              45000.0      2.0  Bangalore   2022-09-08\n",
      "97         1015      Tablet              45000.0      4.0      Delhi   2022-08-24\n",
      "98         1086      Tablet              15000.0      1.0      Delhi   2022-07-10\n",
      "99         1056      Tablet                    -      NaN     Mumbai   2022-05-11\n",
      "100        1074      Tablet              60000.0      2.0  Bangalore   2021-08-29\n",
      "101        1011      Tablet              30000.0      1.0    Chennai   2022-06-25\n",
      "102        1073  Smartphone              15000.0      2.0     Mumbai   2021-12-27\n",
      "103        1095  Smartphone              15000.0      3.0     Mumbai   2022-01-26\n",
      "104        1015      Tablet              30000.0      NaN    Chennai   2023-04-21\n",
      "105        1071     Desktop              60000.0      1.0      Delhi   2022-03-27\n",
      "106        1075      Laptop              15000.0      1.0       Pune   2021-03-17\n",
      "107        1023      Tablet              15000.0      1.0  Bangalore   2022-08-09\n",
      "108        1027     Desktop                    -      1.0       Pune   2021-06-15\n",
      "109        1007      Laptop              60000.0      1.0    Chennai   2023-02-20\n",
      "110        1091      Tablet              15000.0      2.0     Mumbai   2023-11-17\n",
      "111        1035      Tablet              60000.0      NaN     Mumbai   2021-05-16\n",
      "112        1089  Smartphone              30000.0      3.0  Bangalore   2022-10-23\n",
      "113        1007      Laptop              45000.0      3.0     Mumbai   2021-08-29\n",
      "114        1057      Laptop              15000.0      3.0     Mumbai   2022-01-11\n",
      "115        1059     Desktop                    -      3.0  Bangalore   2023-07-05\n",
      "116        1049  Smartphone              30000.0      2.0  Bangalore   2022-11-07\n",
      "117        1027  Smartphone              60000.0      4.0    Chennai   2023-08-04\n",
      "118        1091  Smartphone              30000.0      NaN     Mumbai   2021-01-16\n",
      "119        1040  Smartphone              15000.0      1.0     Mumbai   2023-03-07\n"
     ]
    }
   ],
   "source": [
    "print(ds.to_string())"
   ]
  },
  {
   "cell_type": "code",
   "execution_count": 28,
   "id": "c3ebf4c2-c25f-440d-b4e1-2fbc4327c2a6",
   "metadata": {},
   "outputs": [
    {
     "name": "stderr",
     "output_type": "stream",
     "text": [
      "C:\\Users\\SHRADDHA\\AppData\\Local\\Temp\\ipykernel_17428\\54269347.py:2: UserWarning: Could not infer format, so each element will be parsed individually, falling back to `dateutil`. To ensure parsing is consistent and as-expected, please specify a format.\n",
      "  ds[\"City\"]= pd.to_datetime(ds[\"City\"],errors='coerce')\n"
     ]
    }
   ],
   "source": [
    "#HAndling City column\n",
    "ds[\"City\"]= pd.to_datetime(ds[\"City\"],errors='coerce')\n",
    "#run Info cell"
   ]
  },
  {
   "cell_type": "code",
   "execution_count": 29,
   "id": "82ac91c2-2581-46ef-a38f-36ed4bbf3d5c",
   "metadata": {},
   "outputs": [],
   "source": [
    "#Handilng Quantity column\n",
    "ds[\"Quantity\"] =pd.to_numeric(ds[\"Quantity\"],errors='coerce')\n",
    "#run info cell"
   ]
  },
  {
   "cell_type": "code",
   "execution_count": 30,
   "id": "477bd165-14a3-439b-a41a-91c5ce060404",
   "metadata": {},
   "outputs": [
    {
     "data": {
      "text/plain": [
       "array(['2021-06-30', '2023-01-21', '2023-04-06', '2023-07-05',\n",
       "       '2022-04-11', '2022-03-12', '2022-02-25', '2022-12-22',\n",
       "       '2022-10-23', '2021-08-14', '2022-08-09', '2021-09-28',\n",
       "       '2021-09-13', '2021-01-01', '2022-11-22', '2023-09-03',\n",
       "       '2022-07-10', '2023-07-20', '2021-02-15', '2021-04-16',\n",
       "       '2023-03-22', '2021-01-31', '2021-05-16', '2022-05-11',\n",
       "       '2023-01-06', '2021-04-01', '2023-08-19', '2023-04-21',\n",
       "       '2023-09-18', '2023-05-21', '2023-12-02', '2023-03-07',\n",
       "       '2022-05-26', '2022-11-07', '2023-10-03', '2022-06-25',\n",
       "       '2021-07-15', '2022-12-07', '2022-04-26', '2021-11-27',\n",
       "       '2022-06-10', '2023-06-05', '2021-01-16', '2023-10-18',\n",
       "       '2021-10-13', '2021-05-31', '2021-06-15', '2021-03-02',\n",
       "       '2021-05-01', '2023-02-20', '2022-10-08', '2021-12-12',\n",
       "       '2021-12-27', '2023-12-17', '2021-11-12', '2022-01-11',\n",
       "       '2023-05-06', '2023-11-02', '2022-09-08', '2022-08-24',\n",
       "       '2021-08-29', '2022-01-26', '2022-03-27', '2021-03-17',\n",
       "       '2023-11-17', '2023-08-04'], dtype=object)"
      ]
     },
     "execution_count": 30,
     "metadata": {},
     "output_type": "execute_result"
    }
   ],
   "source": [
    "#\n",
    "ds[\"PurchaseDate\"].unique()"
   ]
  },
  {
   "cell_type": "code",
   "execution_count": 36,
   "id": "878288d7-d410-42ea-a148-3dfc468af046",
   "metadata": {},
   "outputs": [
    {
     "name": "stderr",
     "output_type": "stream",
     "text": [
      "C:\\Users\\SHRADDHA\\AppData\\Local\\Temp\\ipykernel_17428\\349850319.py:3: FutureWarning: A value is trying to be set on a copy of a DataFrame or Series through chained assignment using an inplace method.\n",
      "The behavior will change in pandas 3.0. This inplace method will never work because the intermediate object on which we are setting values always behaves as a copy.\n",
      "\n",
      "For example, when doing 'df[col].method(value, inplace=True)', try using 'df.method({col: value}, inplace=True)' or df[col] = df[col].method(value) instead, to perform the operation inplace on the original object.\n",
      "\n",
      "\n",
      "  ds[\"PurchaseDate\"].fillna(y,inplace=True)\n"
     ]
    }
   ],
   "source": [
    "#Handilng  column\n",
    "y= ds[\"PurchaseDate\"].mode()[0]\n",
    "ds[\"PurchaseDate\"].fillna(y,inplace=True)\n",
    "#run PurchaseDate unique cell"
   ]
  },
  {
   "cell_type": "code",
   "execution_count": 37,
   "id": "befc05aa-cb84-429f-b328-948526d3f307",
   "metadata": {},
   "outputs": [],
   "source": [
    "#Save Data into new file \n",
    "ds.to_csv(\"product_clean_data.csv\")"
   ]
  },
  {
   "cell_type": "code",
   "execution_count": null,
   "id": "51f2e1b3-fc01-42ac-9082-941aadc0ef1e",
   "metadata": {},
   "outputs": [],
   "source": []
  }
 ],
 "metadata": {
  "kernelspec": {
   "display_name": "Python [conda env:base] *",
   "language": "python",
   "name": "conda-base-py"
  },
  "language_info": {
   "codemirror_mode": {
    "name": "ipython",
    "version": 3
   },
   "file_extension": ".py",
   "mimetype": "text/x-python",
   "name": "python",
   "nbconvert_exporter": "python",
   "pygments_lexer": "ipython3",
   "version": "3.12.7"
  }
 },
 "nbformat": 4,
 "nbformat_minor": 5
}
